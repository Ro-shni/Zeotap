{
  "nbformat": 4,
  "nbformat_minor": 0,
  "metadata": {
    "colab": {
      "provenance": [],
      "authorship_tag": "ABX9TyO9Hzt35/stlAl+XiSOXfla",
      "include_colab_link": true
    },
    "kernelspec": {
      "name": "python3",
      "display_name": "Python 3"
    },
    "language_info": {
      "name": "python"
    }
  },
  "cells": [
    {
      "cell_type": "markdown",
      "metadata": {
        "id": "view-in-github",
        "colab_type": "text"
      },
      "source": [
        "<a href=\"https://colab.research.google.com/github/Ro-shni/Zeotap/blob/main/Roshni_Nekkanti_Lookalike.ipynb\" target=\"_parent\"><img src=\"https://colab.research.google.com/assets/colab-badge.svg\" alt=\"Open In Colab\"/></a>"
      ]
    },
    {
      "cell_type": "code",
      "execution_count": null,
      "metadata": {
        "id": "GfObNOaz55ZT"
      },
      "outputs": [],
      "source": [
        "import pandas as pd\n",
        "import numpy as np\n",
        "from sklearn.preprocessing import LabelEncoder\n",
        "from sklearn.metrics.pairwise import cosine_similarity\n",
        "import torch\n",
        "import torch.nn as nn\n",
        "import torch.optim as optim\n",
        "\n",
        "customers_df = pd.read_csv('Customers.csv')\n",
        "transactions_df = pd.read_csv('Transactions.csv')\n",
        "products_df = pd.read_csv('Products.csv')\n",
        "\n",
        "customers_df['SignupDate'] = pd.to_datetime(customers_df['SignupDate'])\n",
        "customers_df['Recency'] = (pd.to_datetime('today') - customers_df['SignupDate']).dt.days\n",
        "\n",
        "label_encoder = LabelEncoder()\n",
        "customers_df['Region'] = label_encoder.fit_transform(customers_df['Region'])\n",
        "\n",
        "transactions_df = transactions_df.merge(products_df[['ProductID', 'Price']], on='ProductID', how='left')\n"
      ]
    },
    {
      "cell_type": "code",
      "source": [
        "\n",
        "transactions_df = transactions_df.drop(columns=['Price_y'])\n"
      ],
      "metadata": {
        "id": "OQmdU24R6hFB"
      },
      "execution_count": null,
      "outputs": []
    },
    {
      "cell_type": "code",
      "source": [
        "\n",
        "transactions_df['TotalSpending'] = transactions_df['Quantity'] * transactions_df['Price_x']\n",
        "\n",
        "customer_spending = transactions_df.groupby('CustomerID')['TotalSpending'].sum().reset_index()\n",
        "\n",
        "purchase_frequency = transactions_df.groupby('CustomerID')['TransactionID'].count().reset_index()\n",
        "purchase_frequency = purchase_frequency.rename(columns={'TransactionID': 'PurchaseFrequency'})\n",
        "\n",
        "customers_df = customers_df.merge(customer_spending, on='CustomerID', how='left')\n",
        "customers_df = customers_df.merge(purchase_frequency, on='CustomerID', how='left')\n",
        "\n",
        "\n",
        "customers_df['TotalSpending'] = customers_df['TotalSpending'].fillna(0)\n",
        "customers_df['PurchaseFrequency'] = customers_df['PurchaseFrequency'].fillna(0)\n",
        "customer_features = customers_df[['CustomerID', 'TotalSpending', 'PurchaseFrequency', 'Recency', 'Region']] #totalspending and recency has heigh weight preorities\n",
        "\n",
        "# (Siamese Network)\n",
        "class ContrastiveModel(nn.Module):\n",
        "    def __init__(self, input_dim, embedding_dim):\n",
        "        super(ContrastiveModel, self).__init__()\n",
        "        self.fc1 = nn.Linear(input_dim, 128)\n",
        "        self.fc2 = nn.Linear(128, embedding_dim)\n",
        "\n",
        "    def forward(self, x):\n",
        "        x = torch.relu(self.fc1(x))\n",
        "        embedding = self.fc2(x)\n",
        "        return embedding\n",
        "\n",
        "# Contrastive Loss Function\n",
        "class ContrastiveLoss(nn.Module):\n",
        "    def __init__(self, margin=1.0):\n",
        "        super(ContrastiveLoss, self).__init__()\n",
        "        self.margin = margin\n",
        "\n",
        "    def forward(self, output1, output2, label):\n",
        "        euclidean_distance = nn.functional.pairwise_distance(output1, output2)\n",
        "        loss = 0.5 * (label * torch.pow(euclidean_distance, 2) +\n",
        "                      (1 - label) * torch.pow(torch.clamp(self.margin - euclidean_distance, min=0.0), 2))\n",
        "        return loss.mean()\n",
        "\n",
        "\n",
        "customer_features_tensor = torch.tensor(customer_features[['Region', 'TotalSpending', 'PurchaseFrequency', 'Recency']].values, dtype=torch.float32)\n",
        "\n",
        "\n",
        "customer_pairs = []\n",
        "labels = []\n",
        "\n",
        "for i in range(len(customers_df) - 1):\n",
        "    for j in range(i + 1, len(customers_df)):\n",
        "        if customers_df.iloc[i]['Region'] == customers_df.iloc[j]['Region']:\n",
        "            customer_pairs.append((customer_features_tensor[i], customer_features_tensor[j]))\n",
        "            labels.append(1)  # Positive pair\n",
        "        else:\n",
        "            customer_pairs.append((customer_features_tensor[i], customer_features_tensor[j]))\n",
        "            labels.append(0)  # Negative pair\n",
        "\n",
        "\n",
        "customer_pairs = torch.stack([torch.stack(pair) for pair in customer_pairs])\n",
        "labels = torch.tensor(labels, dtype=torch.float32)\n",
        "\n",
        "\n",
        "model = ContrastiveModel(input_dim=4, embedding_dim=2)  # Using 4 features (Region, TotalSpending, PurchaseFrequency, Recency) for now but the relavent are totalspending and recency performed later and redone\n",
        "loss_function = ContrastiveLoss(margin=1.0)\n",
        "optimizer = optim.Adam(model.parameters(), lr=0.001)\n",
        "\n",
        "\n",
        "epochs = 10\n",
        "for epoch in range(epochs):\n",
        "    model.train()\n",
        "    optimizer.zero_grad()\n",
        "\n",
        "    output1 = model(customer_pairs[:, 0])\n",
        "    output2 = model(customer_pairs[:, 1])\n",
        "\n",
        "    loss = loss_function(output1, output2, labels)\n",
        "\n",
        "    loss.backward()\n",
        "    optimizer.step()\n",
        "\n",
        "    print(f\"Epoch {epoch + 1}/{epochs}, Loss: {loss.item()}\")\n",
        "\n",
        "\n",
        "with torch.no_grad():\n",
        "    embeddings = model(customer_features_tensor)\n",
        "\n",
        "\n",
        "similarity_matrix = cosine_similarity(embeddings)\n",
        "\n",
        "\n",
        "similarity_df = pd.DataFrame(similarity_matrix, index=customers_df['CustomerID'], columns=customers_df['CustomerID'])\n",
        "\n",
        "# Recommend the top 3 similar customers for each customer\n",
        "lookalike_recommendations = {}\n",
        "for customer_id in customers_df['CustomerID'][:20]:\n",
        "    lookalike_recommendations[customer_id] = similarity_df[customer_id].sort_values(ascending=False).iloc[1:4]\n",
        "\n",
        "for customer_id, recommendations in lookalike_recommendations.items():\n",
        "    print(f\"Customer {customer_id} Lookalikes:\")\n",
        "    print(recommendations)\n",
        "    print(\"-\" * 40)\n",
        "\n",
        "# recommendations to a CSV file\n",
        "lookalike_recommendations_df = pd.DataFrame.from_dict(lookalike_recommendations, orient='index')\n",
        "lookalike_recommendations_df.to_csv('Lookalike.csv')"
      ],
      "metadata": {
        "colab": {
          "base_uri": "https://localhost:8080/"
        },
        "id": "nohVX90Q6f_f",
        "outputId": "ed1e5c15-f69e-4295-cc64-ead4f6697d1e"
      },
      "execution_count": null,
      "outputs": [
        {
          "output_type": "stream",
          "name": "stdout",
          "text": [
            "Epoch 1/10, Loss: 66887.7265625\n",
            "Epoch 2/10, Loss: 55500.2421875\n",
            "Epoch 3/10, Loss: 45228.23828125\n",
            "Epoch 4/10, Loss: 36083.17578125\n",
            "Epoch 5/10, Loss: 28065.845703125\n",
            "Epoch 6/10, Loss: 21167.634765625\n",
            "Epoch 7/10, Loss: 15368.23828125\n",
            "Epoch 8/10, Loss: 10633.3017578125\n",
            "Epoch 9/10, Loss: 6913.16748046875\n",
            "Epoch 10/10, Loss: 4139.77978515625\n",
            "Customer C0001 Lookalikes:\n",
            "CustomerID\n",
            "C0001    1.000000\n",
            "C0091    0.999999\n",
            "C0153    0.999998\n",
            "Name: C0001, dtype: float32\n",
            "----------------------------------------\n",
            "Customer C0002 Lookalikes:\n",
            "CustomerID\n",
            "C0182    1.000000\n",
            "C0114    0.999996\n",
            "C0029    0.999994\n",
            "Name: C0002, dtype: float32\n",
            "----------------------------------------\n",
            "Customer C0003 Lookalikes:\n",
            "CustomerID\n",
            "C0003    1.0\n",
            "C0129    1.0\n",
            "C0200    1.0\n",
            "Name: C0003, dtype: float32\n",
            "----------------------------------------\n",
            "Customer C0004 Lookalikes:\n",
            "CustomerID\n",
            "C0080    1.0\n",
            "C0197    1.0\n",
            "C0160    1.0\n",
            "Name: C0004, dtype: float32\n",
            "----------------------------------------\n",
            "Customer C0005 Lookalikes:\n",
            "CustomerID\n",
            "C0159    1.0\n",
            "C0032    1.0\n",
            "C0005    1.0\n",
            "Name: C0005, dtype: float32\n",
            "----------------------------------------\n",
            "Customer C0006 Lookalikes:\n",
            "CustomerID\n",
            "C0006    1.0\n",
            "C0131    1.0\n",
            "C0101    1.0\n",
            "Name: C0006, dtype: float32\n",
            "----------------------------------------\n",
            "Customer C0007 Lookalikes:\n",
            "CustomerID\n",
            "C0173    1.0\n",
            "C0030    1.0\n",
            "C0171    1.0\n",
            "Name: C0007, dtype: float32\n",
            "----------------------------------------\n",
            "Customer C0008 Lookalikes:\n",
            "CustomerID\n",
            "C0008    1.0\n",
            "C0183    1.0\n",
            "C0144    1.0\n",
            "Name: C0008, dtype: float32\n",
            "----------------------------------------\n",
            "Customer C0009 Lookalikes:\n",
            "CustomerID\n",
            "C0025    1.000000\n",
            "C0060    0.999999\n",
            "C0083    0.999999\n",
            "Name: C0009, dtype: float32\n",
            "----------------------------------------\n",
            "Customer C0010 Lookalikes:\n",
            "CustomerID\n",
            "C0010    1.0\n",
            "C0082    1.0\n",
            "C0096    1.0\n",
            "Name: C0010, dtype: float32\n",
            "----------------------------------------\n",
            "Customer C0011 Lookalikes:\n",
            "CustomerID\n",
            "C0042    1.000000\n",
            "C0135    0.999999\n",
            "C0088    0.999999\n",
            "Name: C0011, dtype: float32\n",
            "----------------------------------------\n",
            "Customer C0012 Lookalikes:\n",
            "CustomerID\n",
            "C0095    1.0\n",
            "C0055    1.0\n",
            "C0195    1.0\n",
            "Name: C0012, dtype: float32\n",
            "----------------------------------------\n",
            "Customer C0013 Lookalikes:\n",
            "CustomerID\n",
            "C0087    1.0\n",
            "C0124    1.0\n",
            "C0143    1.0\n",
            "Name: C0013, dtype: float32\n",
            "----------------------------------------\n",
            "Customer C0014 Lookalikes:\n",
            "CustomerID\n",
            "C0071    0.999996\n",
            "C0033    0.999996\n",
            "C0180    0.999975\n",
            "Name: C0014, dtype: float32\n",
            "----------------------------------------\n",
            "Customer C0015 Lookalikes:\n",
            "CustomerID\n",
            "C0067    1.0\n",
            "C0038    1.0\n",
            "C0015    1.0\n",
            "Name: C0015, dtype: float32\n",
            "----------------------------------------\n",
            "Customer C0016 Lookalikes:\n",
            "CustomerID\n",
            "C0016    1.0\n",
            "C0191    1.0\n",
            "C0170    1.0\n",
            "Name: C0016, dtype: float32\n",
            "----------------------------------------\n",
            "Customer C0017 Lookalikes:\n",
            "CustomerID\n",
            "C0137    1.0\n",
            "C0006    1.0\n",
            "C0101    1.0\n",
            "Name: C0017, dtype: float32\n",
            "----------------------------------------\n",
            "Customer C0018 Lookalikes:\n",
            "CustomerID\n",
            "C0018    1.0\n",
            "C0065    1.0\n",
            "C0115    1.0\n",
            "Name: C0018, dtype: float32\n",
            "----------------------------------------\n",
            "Customer C0019 Lookalikes:\n",
            "CustomerID\n",
            "C0149    1.000000\n",
            "C0070    0.999999\n",
            "C0175    0.999999\n",
            "Name: C0019, dtype: float32\n",
            "----------------------------------------\n",
            "Customer C0020 Lookalikes:\n",
            "CustomerID\n",
            "C0193    0.999998\n",
            "C0133    0.999997\n",
            "C0079    0.999997\n",
            "Name: C0020, dtype: float32\n",
            "----------------------------------------\n"
          ]
        }
      ]
    },
    {
      "cell_type": "code",
      "source": [
        "from sklearn.metrics import accuracy_score\n",
        "\n",
        "# Get the predicted similarities by calculating the Euclidean distance (or cosine similarity)\n",
        "with torch.no_grad():\n",
        "    output1 = model(customer_pairs[:, 0])\n",
        "    output2 = model(customer_pairs[:, 1])\n",
        "\n",
        "euclidean_distances = nn.functional.pairwise_distance(output1, output2)\n",
        "\n",
        "\n",
        "predicted_similarities = 1 - euclidean_distances\n",
        "\n",
        "# If similarity > 0.5, classify as similar (positive pair), else dissimilar (negative pair)\n",
        "predictions = (predicted_similarities > 0.5).float()\n",
        "\n",
        "\n",
        "accuracy = accuracy_score(labels, predictions)\n",
        "print(f\"Model Accuracy: {accuracy * 100:.2f}%\")\n"
      ],
      "metadata": {
        "colab": {
          "base_uri": "https://localhost:8080/"
        },
        "id": "2eGkUFjZB5ia",
        "outputId": "0a52def5-7275-4cbc-c51b-91b4480142e9"
      },
      "execution_count": null,
      "outputs": [
        {
          "output_type": "stream",
          "name": "stdout",
          "text": [
            "Model Accuracy: 75.05%\n"
          ]
        }
      ]
    },
    {
      "cell_type": "code",
      "source": [
        "import pandas as pd\n",
        "import xgboost as xgb\n",
        "from sklearn.model_selection import train_test_split\n",
        "from sklearn.preprocessing import StandardScaler\n",
        "from sklearn.metrics import accuracy_score\n",
        "\n",
        "\n",
        "lookalikes_df = pd.read_csv('Lookalike.csv')\n",
        "transactions_df = pd.read_csv('Transactions.csv')\n",
        "customers_df = pd.read_csv('Customers.csv')\n",
        "\n",
        "# Calculate TotalSpending (Price * Quantity) for each transaction\n",
        "transactions_df['TotalSpending'] = transactions_df['Quantity'] * transactions_df['Price']\n",
        "\n",
        "customers_df['SignupDate'] = pd.to_datetime(customers_df['SignupDate'])\n",
        "\n",
        "customers_df['Recency'] = (pd.to_datetime('today') - customers_df['SignupDate']).dt.days\n",
        "\n",
        "\n",
        "customer_spending = transactions_df.groupby('CustomerID')['TotalSpending'].sum().reset_index()\n",
        "\n",
        "purchase_frequency = transactions_df.groupby('CustomerID')['TransactionID'].count().reset_index()\n",
        "purchase_frequency = purchase_frequency.rename(columns={'TransactionID': 'PurchaseFrequency'})\n",
        "\n",
        "\n",
        "customers_df = customers_df.merge(customer_spending, on='CustomerID', how='left')\n",
        "customers_df = customers_df.merge(purchase_frequency, on='CustomerID', how='left')\n",
        "\n",
        "customers_df['TotalSpending'] = customers_df['TotalSpending'].fillna(0)\n",
        "customers_df['PurchaseFrequency'] = customers_df['PurchaseFrequency'].fillna(0)\n",
        "\n",
        "\n",
        "features = [ 'TotalSpending','Recency']\n",
        "\n",
        "# for the target, let's assume we are predicting a binary outcome based on a rule (you can modify this)\n",
        "# for ex, if TotalSpending is greater than a certain threshold, we label them as \"1\" (active)\n",
        "customers_df['Target'] = (customers_df['TotalSpending'] > 100).astype(int)\n",
        "\n",
        "\n",
        "X = pd.get_dummies(customers_df[features], drop_first=True)\n",
        "y = customers_df['Target']\n",
        "\n",
        "scaler = StandardScaler()\n",
        "X_scaled = scaler.fit_transform(X)\n",
        "\n",
        "\n",
        "X_train, X_test, y_train, y_test = train_test_split(X_scaled, y, test_size=0.2, random_state=42)\n",
        "\n",
        "\n",
        "xgb_model = xgb.XGBClassifier(objective='binary:logistic', eval_metric='logloss', use_label_encoder=False)\n",
        "xgb_model.fit(X_train, y_train)\n",
        "\n",
        "y_pred = xgb_model.predict(X_test)\n",
        "accuracy = accuracy_score(y_test, y_pred)\n",
        "\n",
        "print(f\"Accuracy of XGBoost Model: {accuracy * 100:.2f}%\")\n",
        "\n",
        "# optionally, you can use GridSearchCV to tune hyperparameters as needed\n"
      ],
      "metadata": {
        "colab": {
          "base_uri": "https://localhost:8080/"
        },
        "id": "zF29wy5qC_6l",
        "outputId": "3c1a7b55-5b22-41b7-c4b0-cf5e6c8580e9"
      },
      "execution_count": null,
      "outputs": [
        {
          "output_type": "stream",
          "name": "stdout",
          "text": [
            "Accuracy of XGBoost Model: 100.00%\n"
          ]
        },
        {
          "output_type": "stream",
          "name": "stderr",
          "text": [
            "/usr/local/lib/python3.11/dist-packages/xgboost/core.py:158: UserWarning: [16:22:37] WARNING: /workspace/src/learner.cc:740: \n",
            "Parameters: { \"use_label_encoder\" } are not used.\n",
            "\n",
            "  warnings.warn(smsg, UserWarning)\n"
          ]
        }
      ]
    },
    {
      "cell_type": "code",
      "source": [
        "import matplotlib.pyplot as plt\n",
        "\n",
        "feature_importances = xgb_model.feature_importances_\n",
        "\n",
        "# Create a dictionary to map features to their importance scores\n",
        "feature_names = X.columns\n",
        "feature_importance_dict = {feature_names[i]: feature_importances[i] for i in range(len(feature_names))}\n",
        "\n",
        "total_importance = sum(feature_importance_dict.values())\n",
        "normalized_importance = {k: v / total_importance for k, v in feature_importance_dict.items()}\n",
        "\n",
        "print(\"Normalized Feature Importance (using model.feature_importances_):\")\n",
        "for feature, importance in normalized_importance.items():\n",
        "    print(f\"{feature}: {importance:.4f}\")\n",
        "\n",
        "plt.figure(figsize=(10, 6))\n",
        "plt.barh(list(normalized_importance.keys()), list(normalized_importance.values()), color='skyblue')\n",
        "plt.xlabel('Normalized Importance')\n",
        "plt.title('Normalized Feature Importance using XGBoost')\n",
        "plt.show()"
      ],
      "metadata": {
        "colab": {
          "base_uri": "https://localhost:8080/",
          "height": 616
        },
        "id": "I8HN1u4RHGGA",
        "outputId": "9a382dad-f70a-4d38-a648-426d2616aa3f"
      },
      "execution_count": null,
      "outputs": [
        {
          "output_type": "stream",
          "name": "stdout",
          "text": [
            "Normalized Feature Importance (using model.feature_importances_):\n",
            "TotalSpending: 0.6778\n",
            "Recency: 0.3222\n"
          ]
        },
        {
          "output_type": "display_data",
          "data": {
            "text/plain": [
              "<Figure size 1000x600 with 1 Axes>"
            ],
            "image/png": "[encoded data removed]"
          },
          "metadata": {}
        }
      ]
    },
    {
      "cell_type": "code",
      "source": [
        "import matplotlib.pyplot as plt\n",
        "\n",
        "xgb.plot_importance(xgb_model, importance_type='gain', max_num_features=10, height=0.8)\n",
        "\n",
        "import numpy as np\n",
        "\n",
        "feature_importance = xgb_model.get_booster().get_score(importance_type='gain')\n",
        "\n",
        "total_importance = sum(feature_importance.values())\n",
        "normalized_importance = {k: v / total_importance for k, v in feature_importance.items()}\n",
        "\n",
        "print(\"Normalized Feature Importance (Gain):\")\n",
        "for feature, importance in normalized_importance.items():\n",
        "    print(f\"{feature}: {importance:.4f}\")\n",
        "\n",
        "plt.figure(figsize=(10, 6))\n",
        "plt.barh(list(normalized_importance.keys()), list(normalized_importance.values()), color='skyblue')\n",
        "plt.xlabel('Normalized Importance')\n",
        "plt.title('Normalized Feature Importance (Gain)')\n",
        "plt.show()\n"
      ],
      "metadata": {
        "colab": {
          "base_uri": "https://localhost:8080/",
          "height": 1000
        },
        "id": "kY8Cp6ghIyL2",
        "outputId": "3c2d7ee5-3970-46cf-e8ca-678360021dad"
      },
      "execution_count": null,
      "outputs": [
        {
          "output_type": "stream",
          "name": "stdout",
          "text": [
            "Normalized Feature Importance (Gain):\n",
            "f0: 0.6778\n",
            "f2: 0.3222\n"
          ]
        },
        {
          "output_type": "display_data",
          "data": {
            "text/plain": [
              "<Figure size 640x480 with 1 Axes>"
            ],
            "image/png": "[encoded data removed]"
          },
          "metadata": {}
        },
        {
          "output_type": "display_data",
          "data": {
            "text/plain": [
              "<Figure size 1000x600 with 1 Axes>"
            ],
            "image/png": "[encoded data removed]"
          },
          "metadata": {}
        }
      ]
    },
    {
      "cell_type": "code",
      "source": [
        "variance = X.var()\n",
        "low_variance_features = variance[variance < 0.01]\n",
        "print(f\"Low variance features: {low_variance_features}\")\n"
      ],
      "metadata": {
        "colab": {
          "base_uri": "https://localhost:8080/"
        },
        "id": "oUpzbMOdOcbB",
        "outputId": "43c41823-91ba-4819-d775-921668ccebfc"
      },
      "execution_count": null,
      "outputs": [
        {
          "output_type": "stream",
          "name": "stdout",
          "text": [
            "Low variance features: Series([], dtype: float64)\n"
          ]
        }
      ]
    },
    {
      "cell_type": "code",
      "source": [
        "y_train_pred = xgb_model.predict(X_train)\n",
        "training_accuracy = accuracy_score(y_train, y_train_pred)\n",
        "\n",
        "y_test_pred = xgb_model.predict(X_test)\n",
        "testing_accuracy = accuracy_score(y_test, y_test_pred)\n",
        "print(f\"Training Accuracy: {training_accuracy * 100:.2f}%\")\n",
        "print(f\"Testing Accuracy: {testing_accuracy * 100:.2f}%\")\n"
      ],
      "metadata": {
        "colab": {
          "base_uri": "https://localhost:8080/"
        },
        "id": "_phB-jRFKft7",
        "outputId": "6ef3aad9-41c3-48e5-d611-a5a12d906a8e"
      },
      "execution_count": null,
      "outputs": [
        {
          "output_type": "stream",
          "name": "stdout",
          "text": [
            "Training Accuracy: 98.75%\n",
            "Testing Accuracy: 100.00%\n"
          ]
        }
      ]
    },
    {
      "cell_type": "code",
      "source": [
        "from sklearn.model_selection import KFold\n",
        "from sklearn.metrics import accuracy_score\n",
        "import numpy as np\n",
        "from xgboost import XGBClassifier\n",
        "\n",
        "xgb_model = XGBClassifier(objective='binary:logistic', eval_metric='logloss', use_label_encoder=False)\n",
        "\n",
        "kf = KFold(n_splits=5, shuffle=True, random_state=42)\n",
        "accuracies = []\n",
        "for train_index, test_index in kf.split(X_scaled):\n",
        "    X_train, X_test = X_scaled[train_index], X_scaled[test_index]\n",
        "    y_train, y_test = y.iloc[train_index], y.iloc[test_index]\n",
        "\n",
        "    xgb_model.fit(X_train, y_train)\n",
        "    y_pred = xgb_model.predict(X_test)\n",
        "    accuracy = accuracy_score(y_test, y_pred)\n",
        "    accuracies.append(accuracy)\n",
        "\n",
        "mean_accuracy = np.mean(accuracies)\n",
        "print(f\"Cross-validation accuracies: {accuracies}\")\n",
        "print(f\"Average Cross-validation Accuracy: {mean_accuracy * 100:.2f}%\")\n"
      ],
      "metadata": {
        "colab": {
          "base_uri": "https://localhost:8080/"
        },
        "id": "iDhHVVGvKrj6",
        "outputId": "01cdd09d-42fe-4a6a-aa27-a117dec40e06"
      },
      "execution_count": null,
      "outputs": [
        {
          "output_type": "stream",
          "name": "stdout",
          "text": [
            "Cross-validation accuracies: [1.0, 1.0, 1.0, 0.975, 0.975]\n",
            "Average Cross-validation Accuracy: 99.00%\n"
          ]
        },
        {
          "output_type": "stream",
          "name": "stderr",
          "text": [
            "/usr/local/lib/python3.11/dist-packages/xgboost/core.py:158: UserWarning: [15:49:41] WARNING: /workspace/src/learner.cc:740: \n",
            "Parameters: { \"use_label_encoder\" } are not used.\n",
            "\n",
            "  warnings.warn(smsg, UserWarning)\n",
            "/usr/local/lib/python3.11/dist-packages/xgboost/core.py:158: UserWarning: [15:49:41] WARNING: /workspace/src/learner.cc:740: \n",
            "Parameters: { \"use_label_encoder\" } are not used.\n",
            "\n",
            "  warnings.warn(smsg, UserWarning)\n",
            "/usr/local/lib/python3.11/dist-packages/xgboost/core.py:158: UserWarning: [15:49:41] WARNING: /workspace/src/learner.cc:740: \n",
            "Parameters: { \"use_label_encoder\" } are not used.\n",
            "\n",
            "  warnings.warn(smsg, UserWarning)\n",
            "/usr/local/lib/python3.11/dist-packages/xgboost/core.py:158: UserWarning: [15:49:41] WARNING: /workspace/src/learner.cc:740: \n",
            "Parameters: { \"use_label_encoder\" } are not used.\n",
            "\n",
            "  warnings.warn(smsg, UserWarning)\n",
            "/usr/local/lib/python3.11/dist-packages/xgboost/core.py:158: UserWarning: [15:49:41] WARNING: /workspace/src/learner.cc:740: \n",
            "Parameters: { \"use_label_encoder\" } are not used.\n",
            "\n",
            "  warnings.warn(smsg, UserWarning)\n"
          ]
        }
      ]
    },
    {
      "cell_type": "code",
      "source": [
        "import pandas as pd\n",
        "lookalikes_df = pd.read_csv('Lookalike.csv')\n",
        "print(lookalikes_df.head())\n",
        "\n",
        "final_data = []\n",
        "for _, customer_row in lookalikes_df.iterrows():\n",
        "    customer_id = customer_row['Unnamed: 0']\n",
        "    similarity_scores = customer_row[1:].dropna()\n",
        "    top_lookalikes = similarity_scores.sort_values(ascending=False).head(3)\n",
        "    for lookalike, score in top_lookalikes.items():\n",
        "        final_data.append([customer_id, lookalike, score])\n",
        "\n",
        "final_df = pd.DataFrame(final_data, columns=['CustomerID', 'Lookalike', 'SimilarityScore'])\n",
        "final_df.to_csv('Top_Lookalikes.csv', index=False)\n",
        "print(final_df.head())\n",
        "\n",
        "\n"
      ],
      "metadata": {
        "colab": {
          "base_uri": "https://localhost:8080/"
        },
        "id": "Zudbb4Bl-rnL",
        "outputId": "f72b3014-81b1-40b1-a6e7-8c15cac334f0"
      },
      "execution_count": null,
      "outputs": [
        {
          "output_type": "stream",
          "name": "stdout",
          "text": [
            "  Unnamed: 0    C0097     C0174     C0139     C0025     C0009     C0029  \\\n",
            "0      C0001  0.99748  0.987756  0.977745       NaN       NaN       NaN   \n",
            "1      C0002      NaN       NaN       NaN  0.999971  0.999965  0.999746   \n",
            "2      C0009      NaN       NaN       NaN  1.000000       NaN  0.999900   \n",
            "3      C0003      NaN       NaN       NaN       NaN       NaN       NaN   \n",
            "4      C0020      NaN       NaN       NaN       NaN       NaN       NaN   \n",
            "\n",
            "      C0021     C0200     C0148  ...  C0191  C0170  C0024  C0101  C0154  \\\n",
            "0       NaN       NaN       NaN  ...    NaN    NaN    NaN    NaN    NaN   \n",
            "1       NaN       NaN       NaN  ...    NaN    NaN    NaN    NaN    NaN   \n",
            "2       NaN       NaN       NaN  ...    NaN    NaN    NaN    NaN    NaN   \n",
            "3  0.999905  0.999894  0.999835  ...    NaN    NaN    NaN    NaN    NaN   \n",
            "4       NaN  0.999906       NaN  ...    NaN    NaN    NaN    NaN    NaN   \n",
            "\n",
            "   C0039  C0065  C0014  C0155     C0129  \n",
            "0    NaN    NaN    NaN    NaN       NaN  \n",
            "1    NaN    NaN    NaN    NaN       NaN  \n",
            "2    NaN    NaN    NaN    NaN       NaN  \n",
            "3    NaN    NaN    NaN    NaN       NaN  \n",
            "4    NaN    NaN    NaN    1.0  0.999989  \n",
            "\n",
            "[5 rows x 50 columns]\n",
            "  CustomerID Lookalike  SimilarityScore\n",
            "0      C0001     C0097         0.997480\n",
            "1      C0001     C0174         0.987756\n",
            "2      C0001     C0139         0.977745\n",
            "3      C0002     C0025         0.999971\n",
            "4      C0002     C0009         0.999965\n"
          ]
        }
      ]
    }
  ]
}